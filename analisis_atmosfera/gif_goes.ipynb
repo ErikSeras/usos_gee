{
  "nbformat": 4,
  "nbformat_minor": 0,
  "metadata": {
    "colab": {
      "name": "gif_goes.ipynb",
      "provenance": [],
      "collapsed_sections": [],
      "authorship_tag": "ABX9TyPE4ZMZgWBOVjnZ3Wlx/uFU",
      "include_colab_link": true
    },
    "kernelspec": {
      "name": "python3",
      "display_name": "Python 3"
    },
    "widgets": {
      "application/vnd.jupyter.widget-state+json": {
        "59a9142fad3944f49f51671173487387": {
          "model_module": "@jupyter-widgets/output",
          "model_name": "OutputModel",
          "state": {
            "_view_name": "OutputView",
            "msg_id": "",
            "_dom_classes": [],
            "_model_name": "OutputModel",
            "outputs": [
              {
                "output_type": "display_data",
                "metadata": {
                  "tags": []
                },
                "application/vnd.jupyter.widget-view+json": {
                  "model_id": "5b34da37822045a092e026e04b686133",
                  "version_minor": 0,
                  "version_major": 2
                },
                "text/plain": "Image(value=b'GIF89a1\\x02X\\x02\\xf7\\x1f\\x00\\x00\\x00\\x00$\\x00\\x00H\\x00\\x00l\\x00\\x00\\x90\\x00\\x00\\xb4\\x00\\x00\\xd8\\…"
              }
            ],
            "_view_module": "@jupyter-widgets/output",
            "_model_module_version": "1.0.0",
            "_view_count": null,
            "_view_module_version": "1.0.0",
            "layout": "IPY_MODEL_cb0b92d6753e4ef5b0a86737c15921bc",
            "_model_module": "@jupyter-widgets/output"
          }
        },
        "cb0b92d6753e4ef5b0a86737c15921bc": {
          "model_module": "@jupyter-widgets/base",
          "model_name": "LayoutModel",
          "state": {
            "_view_name": "LayoutView",
            "grid_template_rows": null,
            "right": null,
            "justify_content": null,
            "_view_module": "@jupyter-widgets/base",
            "overflow": null,
            "_model_module_version": "1.2.0",
            "_view_count": null,
            "flex_flow": null,
            "width": null,
            "min_width": null,
            "border": null,
            "align_items": null,
            "bottom": null,
            "_model_module": "@jupyter-widgets/base",
            "top": null,
            "grid_column": null,
            "overflow_y": null,
            "overflow_x": null,
            "grid_auto_flow": null,
            "grid_area": null,
            "grid_template_columns": null,
            "flex": null,
            "_model_name": "LayoutModel",
            "justify_items": null,
            "grid_row": null,
            "max_height": null,
            "align_content": null,
            "visibility": null,
            "align_self": null,
            "height": null,
            "min_height": null,
            "padding": null,
            "grid_auto_rows": null,
            "grid_gap": null,
            "max_width": null,
            "order": null,
            "_view_module_version": "1.2.0",
            "grid_template_areas": null,
            "object_position": null,
            "object_fit": null,
            "grid_auto_columns": null,
            "margin": null,
            "display": null,
            "left": null
          }
        },
        "5b34da37822045a092e026e04b686133": {
          "model_module": "@jupyter-widgets/controls",
          "model_name": "ImageModel",
          "state": {
            "_view_name": "ImageView",
            "_dom_classes": [],
            "_model_name": "ImageModel",
            "format": "png",
            "_view_module": "@jupyter-widgets/controls",
            "_model_module_version": "1.5.0",
            "_view_count": null,
            "width": "",
            "_view_module_version": "1.5.0",
            "layout": "IPY_MODEL_f1f83c820c6843d08ac9ab254c4285e3",
            "height": "",
            "_model_module": "@jupyter-widgets/controls"
          }
        },
        "f1f83c820c6843d08ac9ab254c4285e3": {
          "model_module": "@jupyter-widgets/base",
          "model_name": "LayoutModel",
          "state": {
            "_view_name": "LayoutView",
            "grid_template_rows": null,
            "right": null,
            "justify_content": null,
            "_view_module": "@jupyter-widgets/base",
            "overflow": null,
            "_model_module_version": "1.2.0",
            "_view_count": null,
            "flex_flow": null,
            "width": null,
            "min_width": null,
            "border": null,
            "align_items": null,
            "bottom": null,
            "_model_module": "@jupyter-widgets/base",
            "top": null,
            "grid_column": null,
            "overflow_y": null,
            "overflow_x": null,
            "grid_auto_flow": null,
            "grid_area": null,
            "grid_template_columns": null,
            "flex": null,
            "_model_name": "LayoutModel",
            "justify_items": null,
            "grid_row": null,
            "max_height": null,
            "align_content": null,
            "visibility": null,
            "align_self": null,
            "height": null,
            "min_height": null,
            "padding": null,
            "grid_auto_rows": null,
            "grid_gap": null,
            "max_width": null,
            "order": null,
            "_view_module_version": "1.2.0",
            "grid_template_areas": null,
            "object_position": null,
            "object_fit": null,
            "grid_auto_columns": null,
            "margin": null,
            "display": null,
            "left": null
          }
        },
        "aae19a7c38984673950799e67d6a1cd6": {
          "model_module": "@jupyter-widgets/output",
          "model_name": "OutputModel",
          "state": {
            "_view_name": "OutputView",
            "msg_id": "",
            "_dom_classes": [],
            "_model_name": "OutputModel",
            "outputs": [
              {
                "output_type": "display_data",
                "metadata": {
                  "tags": []
                },
                "application/vnd.jupyter.widget-view+json": {
                  "model_id": "a2f76d1f71f2408993a69b7c5c9d044d",
                  "version_minor": 0,
                  "version_major": 2
                },
                "text/plain": "Image(value=b'GIF89a1\\x02X\\x02\\x87\\x1f\\x00$$\\x00$$UFGT\\x00$\\x00\\x00\\x00\\x00\\x00$U$FTkkU\\x00\\x00U$\\x00\\x00HjTkk…"
              }
            ],
            "_view_module": "@jupyter-widgets/output",
            "_model_module_version": "1.0.0",
            "_view_count": null,
            "_view_module_version": "1.0.0",
            "layout": "IPY_MODEL_8c682f730ea648f2ac6d4b2d4d6e2d0e",
            "_model_module": "@jupyter-widgets/output"
          }
        },
        "8c682f730ea648f2ac6d4b2d4d6e2d0e": {
          "model_module": "@jupyter-widgets/base",
          "model_name": "LayoutModel",
          "state": {
            "_view_name": "LayoutView",
            "grid_template_rows": null,
            "right": null,
            "justify_content": null,
            "_view_module": "@jupyter-widgets/base",
            "overflow": null,
            "_model_module_version": "1.2.0",
            "_view_count": null,
            "flex_flow": null,
            "width": null,
            "min_width": null,
            "border": null,
            "align_items": null,
            "bottom": null,
            "_model_module": "@jupyter-widgets/base",
            "top": null,
            "grid_column": null,
            "overflow_y": null,
            "overflow_x": null,
            "grid_auto_flow": null,
            "grid_area": null,
            "grid_template_columns": null,
            "flex": null,
            "_model_name": "LayoutModel",
            "justify_items": null,
            "grid_row": null,
            "max_height": null,
            "align_content": null,
            "visibility": null,
            "align_self": null,
            "height": null,
            "min_height": null,
            "padding": null,
            "grid_auto_rows": null,
            "grid_gap": null,
            "max_width": null,
            "order": null,
            "_view_module_version": "1.2.0",
            "grid_template_areas": null,
            "object_position": null,
            "object_fit": null,
            "grid_auto_columns": null,
            "margin": null,
            "display": null,
            "left": null
          }
        },
        "a2f76d1f71f2408993a69b7c5c9d044d": {
          "model_module": "@jupyter-widgets/controls",
          "model_name": "ImageModel",
          "state": {
            "_view_name": "ImageView",
            "_dom_classes": [],
            "_model_name": "ImageModel",
            "format": "png",
            "_view_module": "@jupyter-widgets/controls",
            "_model_module_version": "1.5.0",
            "_view_count": null,
            "width": "",
            "_view_module_version": "1.5.0",
            "layout": "IPY_MODEL_c181256fb1314803bdec41c8de9b19d8",
            "height": "",
            "_model_module": "@jupyter-widgets/controls"
          }
        },
        "c181256fb1314803bdec41c8de9b19d8": {
          "model_module": "@jupyter-widgets/base",
          "model_name": "LayoutModel",
          "state": {
            "_view_name": "LayoutView",
            "grid_template_rows": null,
            "right": null,
            "justify_content": null,
            "_view_module": "@jupyter-widgets/base",
            "overflow": null,
            "_model_module_version": "1.2.0",
            "_view_count": null,
            "flex_flow": null,
            "width": null,
            "min_width": null,
            "border": null,
            "align_items": null,
            "bottom": null,
            "_model_module": "@jupyter-widgets/base",
            "top": null,
            "grid_column": null,
            "overflow_y": null,
            "overflow_x": null,
            "grid_auto_flow": null,
            "grid_area": null,
            "grid_template_columns": null,
            "flex": null,
            "_model_name": "LayoutModel",
            "justify_items": null,
            "grid_row": null,
            "max_height": null,
            "align_content": null,
            "visibility": null,
            "align_self": null,
            "height": null,
            "min_height": null,
            "padding": null,
            "grid_auto_rows": null,
            "grid_gap": null,
            "max_width": null,
            "order": null,
            "_view_module_version": "1.2.0",
            "grid_template_areas": null,
            "object_position": null,
            "object_fit": null,
            "grid_auto_columns": null,
            "margin": null,
            "display": null,
            "left": null
          }
        }
      }
    }
  },
  "cells": [
    {
      "cell_type": "markdown",
      "metadata": {
        "id": "view-in-github",
        "colab_type": "text"
      },
      "source": [
        "<a href=\"https://colab.research.google.com/github/ErikSeras/usos_gee/blob/master/analisis_atmosfera/gif_goes.ipynb\" target=\"_parent\"><img src=\"https://colab.research.google.com/assets/colab-badge.svg\" alt=\"Open In Colab\"/></a>"
      ]
    },
    {
      "cell_type": "markdown",
      "metadata": {
        "id": "ZleZjJwPJ_9z"
      },
      "source": [
        "# ¿Cómo poder visualizar un huracán?"
      ]
    },
    {
      "cell_type": "markdown",
      "metadata": {
        "id": "T8W4abQPzvbf"
      },
      "source": [
        "Los huracanes son las tormentas más grandes y violentas de la Tierra. Las personas llaman a estas tormentas con distintos nombres como tifones o ciclones según el lugar donde se producen. El término científico para todas estas tormentas es ciclón tropical. Sólo los ciclones tropicales que se forman sobre el Océano Atlántico y el Océano Pacífico oriental se llaman \"huracanes\" [(NASA, 2019)](https://spaceplace.nasa.gov/hurricanes/sp/).\n",
        "\n",
        "El seguimiento de estos es crucial para la toma de acciones de los países que puedan ser afectados por su paso.\n",
        "\n",
        "Hay diferentes formas de visualizar estos eventos desde el espacio con satélites, una de ellas es mediante el uso de las imágenes captadas por el Satélite Geoestacionario Ambiental Operacional - R Serie [(GOES-R)](https://www.goes-r.gov/), antes conocido como GOES 16. La plataforma [GOES Image Viewer](https://www.star.nesdis.noaa.gov/GOES/fulldisk.php?sat=G16) permite visualizar las imágenes mediante la combinación de diferentes bandas. Pero para este ejemplo, usaremos la plataforma de Google Earth Engine (GEE), el cual permite manejar todo el dataset de imágenes y poder visualizar eventos, como el huracán Genenieve durante agosto del 2020.\n",
        "\n",
        "\n",
        "\n",
        "\n"
      ]
    },
    {
      "cell_type": "markdown",
      "metadata": {
        "id": "6tFzNL_Hzi7Q"
      },
      "source": [
        "## Generar un GIF que represente el movimiento de un huracán"
      ]
    },
    {
      "cell_type": "markdown",
      "metadata": {
        "id": "ldtMPm_Mpa1u"
      },
      "source": [
        "El siguiente código escrito en JavaScript permite generar un GIF que representa el huracán Genenieve durante el 18 de agosto del 2020. Este código funciona en la plataforma de Google Earth Engine. Este [enlace](https://code.earthengine.google.com/3935d5a7d848084b99fb91a44a154184) redirecciona al script en la plataforma de GEE.\n",
        "\n",
        "```{js}\n",
        "////////////////////////////////////////////////////////////////////////////////\n",
        "\n",
        "// Elaborado por: Erik Seras\n",
        "// Fecha: 2020-09-30\n",
        "\n",
        "// Objetivo del script\n",
        "// Visualizar el huracán Genevieve durante el 2020-08-18\n",
        "\n",
        "////////////////////////////////////////////////////////////////////////////////\n",
        "\n",
        "// 1. Definir la región de estudio\n",
        "\n",
        "/*\n",
        "Elección de la región adecuada para poder visualizar del paso\n",
        "del huracán Genevieve. En caso desea analizar otro evento\n",
        "parecido, traze un rectángulo o la forma que desee. Una\n",
        "vez satisfecho con la área definida, puede dejarlo como\n",
        "una variable importada, o escribirla mediante el objeto\n",
        "ee.Geometry.Polygon().\n",
        "*/\n",
        "\n",
        "// Área del estudio\n",
        "var roi = ee.Geometry.Polygon(\n",
        "  [[\n",
        "    [-118, 10],\n",
        "    [-98,10],\n",
        "    [-98,30],\n",
        "    [-118,30],\n",
        "    [-118,10]]], null,\n",
        "  false);\n",
        "\n",
        "////////////////////////////////////////////////////////////////////////////////\n",
        "\n",
        "// 2. Arreglo de la data\n",
        "\n",
        "/*\n",
        "Earth Engine Data Catalog brinda información sobre los\n",
        "diferentes dataset disponibles. En la descripción del\n",
        "dataset usada en este ejercicio NOAA/GOES/16/MCMIPF brinda\n",
        "una script que permite corregir los datos de las imágenes\n",
        "y facilitar su rápido análisis.\n",
        "\n",
        "Escribir NOAA/GOES/16/MCMIPF en el buscador de\n",
        "https://developers.google.com/earth-engine/datasets para\n",
        "conocer más sobre este dataset.\n",
        "*/\n",
        "\n",
        "// Función que arregla los valores de las imágenes\n",
        "\n",
        "// Consideraciones para la función\n",
        "// Alias de las bandas.\n",
        "var BLUE = 'CMI_C01';\n",
        "var RED = 'CMI_C02';\n",
        "var VEGGIE = 'CMI_C03';\n",
        "var GREEN = 'GREEN';\n",
        "// Número de bandas\n",
        "var NUM_BANDS = 33;\n",
        "// Omitir las bandas DQF intercaladas.\n",
        "var BLUE_BAND_INDEX = (1 - 1) * 2;\n",
        "var RED_BAND_INDEX = (2 - 1) * 2;\n",
        "var VEGGIE_BAND_INDEX = (3 - 1) * 2;\n",
        "var GREEN_BAND_INDEX = NUM_BANDS - 1;\n",
        "\n",
        "// Rango de visualización para GOES RGB\n",
        "var GOES_MIN = 0.0;\n",
        "var GOES_MAX = 1;  // Alternativamente 1.3.\n",
        "\n",
        "// Crear la función\n",
        "\n",
        "/*\n",
        "Esta función sirve para arreglar todas las imágenes de un dataset\n",
        "usando la función map (). Pero también sirve para arreglar una sola.\n",
        "*/\n",
        "\n",
        "var applyScaleAndOffset = function(image) {\n",
        "  image = ee.Image(image);\n",
        "  var bands = new Array(NUM_BANDS);\n",
        "  for (var i = 1; i < 17; i++) {\n",
        "    var bandName = 'CMI_C' + (100 + i + '').slice(-2);\n",
        "    var offset = ee.Number(image.get(bandName + '_offset'));\n",
        "    var scale =  ee.Number(image.get(bandName + '_scale'));\n",
        "    bands[(i-1) * 2] = image.select(bandName).multiply(scale).add(offset);\n",
        "\n",
        "    var dqfName = 'DQF_C' + (100 + i + '').slice(-2);\n",
        "    bands[(i-1) * 2 + 1] = image.select(dqfName);\n",
        "  }\n",
        "  \n",
        "  /* Estudio sobre generar imagenes de color verdadero con GOES-16\n",
        "  \n",
        "  Bah, Gunshor, Schmit, Generation of GOES-16 True Color Imagery without a\n",
        "  Green Band, 2018. https://doi.org/10.1029/2018EA000379\n",
        "  */\n",
        "  // Green = 0.45 * Red + 0.10 * NIR + 0.45 * Blue\n",
        "  var green1 = bands[RED_BAND_INDEX].multiply(0.45);\n",
        "  var green2 = bands[VEGGIE_BAND_INDEX].multiply(0.10);\n",
        "  var green3 = bands[BLUE_BAND_INDEX].multiply(0.45);\n",
        "  var green = green1.add(green2).add(green3);\n",
        "  bands[GREEN_BAND_INDEX] = green.rename(GREEN);\n",
        "\n",
        "  return ee.Image(ee.Image(bands).copyProperties(image, image.propertyNames()));\n",
        "};\n",
        "\n",
        "////////////////////////////////////////////////////////////////////////////////\n",
        "\n",
        "// 3. Generación del GIF\n",
        "\n",
        "// Filtrar por fechas el dataset\n",
        "// La fecha 2020-08-18T15:00:00 tiene como zona horaria UTC por defecto.\n",
        "\n",
        "var goes16 = ee.ImageCollection(\"NOAA/GOES/16/MCMIPF\")\n",
        "              .filterDate(\"2020-08-18T15:00:00\", \"2020-08-18T23:00:00\");\n",
        "\n",
        "// Aplicar la correción\n",
        "var goes16_arreglado = goes16.map(applyScaleAndOffset);\n",
        "\n",
        "// Función pra cortar las imágenes en un Image Collection\n",
        "var cortarRoi = function(image){\n",
        "  return image.clip(roi);\n",
        "};\n",
        "\n",
        "// Cortar las imágenes por la región de interés\n",
        "var goes16_roi = goes16_arreglado.map(cortarRoi);\n",
        "\n",
        "// Características del GIF a generar\n",
        "var videoArgs = {\n",
        "  min: 0,\n",
        "  max: 1,\n",
        "  dimensions: 600,\n",
        "  region: roi,\n",
        "  framesPerSecond: 12,\n",
        "  crs: 'EPSG:3857',\n",
        "  bands: ['CMI_C02', 'GREEN', 'CMI_C01']\n",
        "};\n",
        "\n",
        "// Mostrar el GIF en consola\n",
        "print(ui.Thumbnail(goes16_roi, videoArgs));\n",
        "\n",
        "////////////////////////////////////////////////////////////////////////////////\n",
        "```\n",
        "\n",
        "\n",
        "\n"
      ]
    },
    {
      "cell_type": "markdown",
      "metadata": {
        "id": "x_XbLmYA22HX"
      },
      "source": [
        "El GIF generado en la plataforma debe ser descargado a su computadora. Luego puede guardarla en algún lugar de su Google Drive y luego concectarlo con Google Colab, o subir de manera directa el GIF mediante la carga de archivos de Google Colab."
      ]
    },
    {
      "cell_type": "markdown",
      "metadata": {
        "id": "1kLdMaMwzoxx"
      },
      "source": [
        "## Añadir texto e imágenes al GIF"
      ]
    },
    {
      "cell_type": "markdown",
      "metadata": {
        "id": "6dB3xqtGzyjY"
      },
      "source": [
        "El paquete de Python [`geemap`](https://github.com/giswqs/geemap) permite el mapeo interactivo con GEE. Para esta ocasión usaremos las funciones que permiten editar GIF generados con GEE.\n"
      ]
    },
    {
      "cell_type": "markdown",
      "metadata": {
        "id": "gdQU1HR60XEA"
      },
      "source": [
        "Deberá instalar el paquete cada vez que use el archivo de jupyter notebook, al igual que iniciar sesión en GEE para poder usar las funcionalidades y los dataset."
      ]
    },
    {
      "cell_type": "code",
      "metadata": {
        "id": "ku99A3XBMF8V"
      },
      "source": [
        "# Función mágica que suprime los resultados\n",
        "%%capture\n",
        "## Instalar geemap\n",
        "!pip install geemap"
      ],
      "execution_count": 1,
      "outputs": []
    },
    {
      "cell_type": "code",
      "metadata": {
        "id": "VfpBhMwvMF_N"
      },
      "source": [
        "## Librerías necesarias\n",
        "import ee\n",
        "import geemap.eefolium as geemap"
      ],
      "execution_count": 2,
      "outputs": []
    },
    {
      "cell_type": "code",
      "metadata": {
        "id": "a_me9U1HMGGC"
      },
      "source": [
        "# Iniciar sesión de GEE\n",
        "try:\n",
        "    ee.Initialize()\n",
        "except Exception as e:\n",
        "    ee.Authenticate()\n",
        "    ee.Initialize()"
      ],
      "execution_count": null,
      "outputs": []
    },
    {
      "cell_type": "markdown",
      "metadata": {
        "id": "_M2uNKaG03wN"
      },
      "source": [
        "Si guardó el GIF generado con anteriodad en Google Drive y pudo importarlo a Google Colab o lo subió directamente a la sesión, ya no es necesario correr el siguiente código. `! wget 'enlace del archivo'` permite importar directamente archivos desde repositorios de github o enlaces de páginas web."
      ]
    },
    {
      "cell_type": "code",
      "metadata": {
        "id": "CIuiKgaZMGM5"
      },
      "source": [
        "%%capture\n",
        "\n",
        "# Importar el gif desde GitHub\n",
        "! wget https://github.com/ErikSeras/usos_gee/blob/master/analisis_atmosfera/data/huracan_genevieve_2020_08_18.gif?raw=true"
      ],
      "execution_count": 4,
      "outputs": []
    },
    {
      "cell_type": "markdown",
      "metadata": {
        "id": "D1EaqXyfAW9k"
      },
      "source": [
        "GIF importado desde GitHub para el desarrollo del ejemplo\n",
        "\n",
        "![Ejemplo de GIF generado con GEE](https://github.com/ErikSeras/usos_gee/blob/master/analisis_atmosfera/data/huracan_genevieve_2020_08_18.gif?raw=true)"
      ]
    },
    {
      "cell_type": "markdown",
      "metadata": {
        "id": "ltvjshNe10XL"
      },
      "source": [
        "La siguiente celda permite cambiar el nombre del archivo, ya que al importar directamente puede ser que tenga algun texto adicional. En este ejemplo se usó `! mv` para poder cambiar de `huracan_genevieve_2020_08_18.gif?raw=true` a `huracan_genevieve_2020_08_18.gif`. Si importó de Google Drive o directamente el GIF ya no es necesario ejecutarlo."
      ]
    },
    {
      "cell_type": "code",
      "metadata": {
        "id": "GMxKm6xYdvZA"
      },
      "source": [
        "# Arreglar el nombre y dejarlo con la terminación .gif\n",
        "! mv huracan_genevieve_2020_08_18.gif?raw=true huracan_genevieve_2020_08_18.gif"
      ],
      "execution_count": 5,
      "outputs": []
    },
    {
      "cell_type": "code",
      "metadata": {
        "id": "iSMOqtm7MGTc",
        "outputId": "6b768413-fe25-4032-c58b-5fbeb80ca8c0",
        "colab": {
          "base_uri": "https://localhost:8080/",
          "height": 625,
          "referenced_widgets": [
            "59a9142fad3944f49f51671173487387",
            "cb0b92d6753e4ef5b0a86737c15921bc",
            "5b34da37822045a092e026e04b686133",
            "f1f83c820c6843d08ac9ab254c4285e3"
          ]
        }
      },
      "source": [
        "# Función que permite visualizar el GIF\n",
        "geemap.show_image('/content/huracan_genevieve_2020_08_18.gif')"
      ],
      "execution_count": 6,
      "outputs": [
        {
          "output_type": "display_data",
          "data": {
            "application/vnd.jupyter.widget-view+json": {
              "model_id": "59a9142fad3944f49f51671173487387",
              "version_minor": 0,
              "version_major": 2
            },
            "text/plain": [
              "Output()"
            ]
          },
          "metadata": {
            "tags": []
          }
        }
      ]
    },
    {
      "cell_type": "markdown",
      "metadata": {
        "id": "O5EoVcBg2jfk"
      },
      "source": [
        "Es necesario crear direcciones de archivos que permitan acceder al GIF inicial y al GIF modificado ya que será utilizado para poder ejecutar las funciones de adición de texto e imágenes."
      ]
    },
    {
      "cell_type": "code",
      "metadata": {
        "id": "Xbt52tvfMGdd"
      },
      "source": [
        "## Dirección del GIF a modificar\n",
        "in_gif = '/content/huracan_genevieve_2020_08_18.gif'\n",
        "\n",
        "## Dirección del GIF modificado\n",
        "out_gif = '/content/huracan_genevieve_final.gif'"
      ],
      "execution_count": 7,
      "outputs": []
    },
    {
      "cell_type": "markdown",
      "metadata": {
        "id": "0zVvFed1itck"
      },
      "source": [
        "Deberá tener en cuenta que cosas quiere añadir al GIF. Por ejemplo poner un título, el autor y la fecha de análisis, o inclusive alguna imagen que represente la fuente de los datos analizados. La siguiente celda contiene algunos argumentos que requiere las funciones `geemap.add_text_to_gif()` y `geemap.add_image_to_giff()` que permiten personalizar el GIF final."
      ]
    },
    {
      "cell_type": "code",
      "metadata": {
        "id": "hzPty3z8MGge"
      },
      "source": [
        "# Argumentos para geemap.add_text_to_gif()\n",
        "\n",
        "# Título general del GIF\n",
        "titulo = \"GOES-16 MCMIPF Series ABI Level 2\\nCloud and Moisture Imagery Full Disk\\n                Huracán Genevieve\"\n",
        "\n",
        "# Nombre del autor del GIF\n",
        "autor = \"Procesado por: Erik Seras\" # Poner su nombre\n",
        "\n",
        "# Color del texto\n",
        "color_texto = '#9ef0ff' # Formato hex\n",
        "\n",
        "# Tamaño de la fuente\n",
        "tamano_texto = 15\n",
        "\n",
        "# Fecha\n",
        "fecha = 'Fecha: 2020-08-18'\n",
        "\n",
        "# En el ejemplo se tiene un gif con 12 fps, para mantenerlo se debe\n",
        "# arreglar la duración en base a lo predeterminado de la función\n",
        "fps_original = 12 # fps\n",
        "mantener_fps = 100/fps_original*10 # 83.33 milisegundos por cada fotograma\n",
        "\n",
        "# Aunque puede poner un valor mas redondo a la decena manualmente, como 80.\n",
        "\n",
        "#  Argumentos para geemap.add_image_to_giff()\n",
        "\n",
        "# Añadir algunos logos al gif\n",
        "noaa_logo = 'https://bit.ly/3ahJoMq'\n",
        "ee_logo = 'https://bit.ly/2RJYSCo'"
      ],
      "execution_count": 8,
      "outputs": []
    },
    {
      "cell_type": "markdown",
      "metadata": {
        "id": "zJbFOam-3-FT"
      },
      "source": [
        "### Añadir texto al GIF"
      ]
    },
    {
      "cell_type": "code",
      "metadata": {
        "id": "4TrVfJP6MGbz"
      },
      "source": [
        "# Función para añadir texto a un GIF\n",
        "geemap.add_text_to_gif(\n",
        "    # Dirección del gif inicial y saliente\n",
        "    in_gif, out_gif,\n",
        "    # Texto que se desea agregar al GIF\n",
        "    text_sequence = titulo,\n",
        "    # Ubicación del texto en el GIF\n",
        "    xy = ('30%', '5%'),\n",
        "    # Color y tamaño del texto\n",
        "    font_color = color_texto, font_size = tamano_texto,\n",
        "    # Velocidad de cada fotograma en milisegundos\n",
        "    duration = mantener_fps\n",
        ")"
      ],
      "execution_count": 9,
      "outputs": []
    },
    {
      "cell_type": "code",
      "metadata": {
        "id": "AAGe4RbOMGRh"
      },
      "source": [
        "# Función para añadir texto a un GIF\n",
        "geemap.add_text_to_gif(\n",
        "    # Dirección del gif inicial y saliente\n",
        "    out_gif, out_gif,\n",
        "    # Ubicación del texto en el GIF\n",
        "    xy=('65%', '95%'),\n",
        "    text_sequence = autor,\n",
        "    # Color y tamaño del texto\n",
        "    font_color = color_texto, font_size = tamano_texto,\n",
        "    # Velocidad de cada fotograma en milisegundos\n",
        "    duration = mantener_fps\n",
        ")"
      ],
      "execution_count": 10,
      "outputs": []
    },
    {
      "cell_type": "code",
      "metadata": {
        "id": "OzqohT-nxela"
      },
      "source": [
        "# Función para añadir texto a un GIF\n",
        "geemap.add_text_to_gif(\n",
        "    # Dirección del gif inicial y saliente\n",
        "    out_gif, out_gif,\n",
        "    # Ubicación del texto en el GIF\n",
        "    xy=('5%', '95%'),\n",
        "    text_sequence = fecha,\n",
        "    # Color y tamaño del texto\n",
        "    font_color = color_texto, font_size = tamano_texto,\n",
        "    # Velocidad de cada fotograma en milisegundos\n",
        "    duration = mantener_fps\n",
        ")"
      ],
      "execution_count": 11,
      "outputs": []
    },
    {
      "cell_type": "markdown",
      "metadata": {
        "id": "EYpKVq-u4AQf"
      },
      "source": [
        "### Añadir imágenes al GIF"
      ]
    },
    {
      "cell_type": "code",
      "metadata": {
        "id": "aeVopjYvQPOk"
      },
      "source": [
        "# Añadir imagen al GIF\n",
        "geemap.add_image_to_gif(out_gif, out_gif, in_image=noaa_logo, xy = ('6%', '85%'), image_size=(60, 60))"
      ],
      "execution_count": 12,
      "outputs": []
    },
    {
      "cell_type": "code",
      "metadata": {
        "id": "ikG1AvYPQOut"
      },
      "source": [
        "# Añadir imagen al GIF\n",
        "geemap.add_image_to_gif(out_gif, out_gif, in_image=ee_logo, xy = ('16%', '85%'), image_size=(60, 60))"
      ],
      "execution_count": 13,
      "outputs": []
    },
    {
      "cell_type": "code",
      "metadata": {
        "id": "HvZE9UZHMGPi",
        "outputId": "dbb98a42-4184-4a4d-a2ab-e69909a3a880",
        "colab": {
          "base_uri": "https://localhost:8080/",
          "height": 625,
          "referenced_widgets": [
            "aae19a7c38984673950799e67d6a1cd6",
            "8c682f730ea648f2ac6d4b2d4d6e2d0e",
            "a2f76d1f71f2408993a69b7c5c9d044d",
            "c181256fb1314803bdec41c8de9b19d8"
          ]
        }
      },
      "source": [
        "# Ver el GIF final\n",
        "geemap.show_image(out_gif)"
      ],
      "execution_count": 15,
      "outputs": [
        {
          "output_type": "display_data",
          "data": {
            "application/vnd.jupyter.widget-view+json": {
              "model_id": "aae19a7c38984673950799e67d6a1cd6",
              "version_minor": 0,
              "version_major": 2
            },
            "text/plain": [
              "Output()"
            ]
          },
          "metadata": {
            "tags": []
          }
        }
      ]
    }
  ]
}